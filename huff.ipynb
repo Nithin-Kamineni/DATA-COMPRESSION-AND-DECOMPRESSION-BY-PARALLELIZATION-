{
 "cells": [
  {
   "cell_type": "code",
   "execution_count": 40,
   "metadata": {},
   "outputs": [],
   "source": [
    "dur = {}\n",
    "#lst.remove('')"
   ]
  },
  {
   "cell_type": "code",
   "execution_count": 41,
   "metadata": {},
   "outputs": [],
   "source": [
    "import multiprocessing\n",
    "from multiprocessing import Pool\n",
    "import tqdm\n",
    "import time\n",
    "import os\n",
    "from heapq import heappush, heappop, heapify\n",
    "from collections import defaultdict\n",
    "from bitarray import bitarray\n",
    "import numpy as np\n",
    "import cv2\n",
    "import matplotlib.pyplot as plt\n",
    "import pickle\n",
    "import matplotlib\n",
    "from PIL import Image as im\n",
    "from tqdm.notebook import tqdm\n",
    "import pymp\n",
    "from joblib import Parallel, delayed\n",
    "import ray"
   ]
  },
  {
   "cell_type": "code",
   "execution_count": 42,
   "metadata": {},
   "outputs": [
    {
     "data": {
      "application/vnd.jupyter.widget-view+json": {
       "model_id": "23717d48ac1e4a21bfad6703bd1c830f",
       "version_major": 2,
       "version_minor": 0
      },
      "text/plain": [
       "HBox(children=(FloatProgress(value=0.0, max=61.0), HTML(value='')))"
      ]
     },
     "metadata": {},
     "output_type": "display_data"
    },
    {
     "name": "stdout",
     "output_type": "stream",
     "text": [
      "\n",
      "--- 80.51826095581055 seconds ---\n"
     ]
    }
   ],
   "source": [
    "def _foo(nae):\n",
    "    print(my_number)\n",
    "    return 1\n",
    "\n",
    "def compretion(name):\n",
    "    img='photos/'+name\n",
    "    image = cv2.imread(img)\n",
    "    #plt.imshow(image)\n",
    "    #a = im.fromarray(image)\n",
    "    #print(image)\n",
    "    #print(\"====\")\n",
    "    #print(len(image))\n",
    "    #print(len(image[0]))\n",
    "    #print(len(image[0][0]))\n",
    "    #M = image.shape[0]\n",
    "    #N = image.shape[1]\n",
    "    #imageR=np.zeros([M,N])\n",
    "    #imageB=np.zeros([M,N])\n",
    "    #imageG=np.zeros([M,N])\n",
    "    #image = cv2.cvtColor(image, cv2.COLOR_BGR2GRAY)\n",
    "    imgshape = image.shape\n",
    "    #print(imgshape)\n",
    "    image = np.reshape(image, (1, imgshape[0]*imgshape[1]*imgshape[2]))\n",
    "    #print(len(image[0]))\n",
    "    #print(len(image), \"a\")\n",
    "    image = image.tolist()[0]\n",
    "    #print(len(image), \"a\")\n",
    "    # image = \"HAPPY HAPPY\"\n",
    "    freq_lib = defaultdict(int)    # generate a default library\n",
    "    for ch in image:                # count each letter and record into the frequency library \n",
    "        freq_lib[ch] += 1\n",
    "    heap = [[fq, [sym, \"\"]] for sym, fq in freq_lib.items()]  # '' is for entering the huffman code later\n",
    "    heapify(heap) # transform the list into a heap tree structure\n",
    "    while len(heap) > 1:\n",
    "        right = heappop(heap)  # heappop - Pop and return the smallest item from the heap\n",
    "    #     print('right = ', right)\n",
    "        left = heappop(heap)\n",
    "    #     print('left = ', left)\n",
    "\n",
    "        for pair in right[1:]:  \n",
    "            pair[1] = '1' + pair[1]   # add one to all the right note\n",
    "        for pair in left[1:]:  \n",
    "            pair[1] = '0' + pair[1]   # add zero to all the left note\n",
    "        heappush(heap, [right[0] + left[0]] + right[1:] + left[1:])  # add values onto the heap. Eg. h = []; heappush(h, (5, 'write code')) --> h = [(5, 'write code')]\n",
    "    huffman_list = right[1:] + left[1:]\n",
    "    #print(len(huffman_list),\"f\")\n",
    "    huffman_dict = {a[0]:bitarray(str(a[1])) for a in huffman_list}\n",
    "    #print(len(huffman_dict),\"s\")\n",
    "    encoded_image = bitarray()\n",
    "    encoded_image.encode(huffman_dict, image)\n",
    "    with open('bin/'+name+'.bin', 'wb') as w:\n",
    "        encoded_image.tofile(w)\n",
    "    huffman_dict['imgshape'] = [imgshape[0],imgshape[1],imgshape[2]]\n",
    "    huffman_dict['encoded_image'] = len(encoded_image)\n",
    "    #print(huffman_dict)\n",
    "\n",
    "    a_file = open('dict/'+name+\".pkl\", \"wb\")\n",
    "    pickle.dump(huffman_dict, a_file)\n",
    "    a_file.close()\n",
    "    #print(name, \"compretion completed...\")\n",
    "    #return a\n",
    "\n",
    "if __name__ == '__main__':\n",
    "    lst = os.listdir('photos/')\n",
    "    start_time = time.time()\n",
    "    for i in tqdm(range(len(lst))):\n",
    "        compretion(lst[i])\n",
    "    print(\"--- %s seconds ---\" % (time.time() - start_time))\n",
    "    dur[\"Series-compretion\"] = time.time() - start_time"
   ]
  },
  {
   "cell_type": "code",
   "execution_count": 43,
   "metadata": {},
   "outputs": [
    {
     "data": {
      "application/vnd.jupyter.widget-view+json": {
       "model_id": "396df4ff2cc441d2a99893a0c7552b44",
       "version_major": 2,
       "version_minor": 0
      },
      "text/plain": [
       "HBox(children=(FloatProgress(value=0.0, max=61.0), HTML(value='')))"
      ]
     },
     "metadata": {},
     "output_type": "display_data"
    },
    {
     "name": "stdout",
     "output_type": "stream",
     "text": [
      "\n",
      "--- 62.3877854347229 seconds ---\n"
     ]
    }
   ],
   "source": [
    "def decompretion(name):\n",
    "    decoded_out = bitarray()\n",
    "    a_file = open('dict/'+name+\".pkl\", \"rb\")\n",
    "    huffman_dict = pickle.load(a_file)\n",
    "    #print(output)\n",
    "    \n",
    "    imgshape = huffman_dict.pop(\"imgshape\")\n",
    "    e_i = huffman_dict.pop(\"encoded_image\")\n",
    "    padding = 8 - (e_i % 8)\n",
    "    \n",
    "    with open('bin/'+name+'.bin', 'rb') as r:\n",
    "        decoded_out.fromfile(r)\n",
    "    \n",
    "    decoded_out = decoded_out[:-padding] # remove padding\n",
    "    decoded_out = decoded_out.decode(huffman_dict) \n",
    "    # decoded_text = ''.join(decoded_text)\n",
    "\n",
    "    # print(decoded_out)\n",
    "\n",
    "    decoded_out = np.array(decoded_out);\n",
    "    output = np.reshape(decoded_out, (imgshape[0], imgshape[1] , imgshape[2]))\n",
    "    #plt.imshow(output, cmap='gray')\n",
    "    #matplotlib.image.imsave('decomp/'+name, output)\n",
    "    #output.save('decomp/'+name)\n",
    "    cv2.imwrite('decomp/'+name, output)\n",
    "    #plt.imshow(output)\n",
    "    #im.fromarray(output)\n",
    "    #print(name, \"de-compretion completed...\")\n",
    "\n",
    "if __name__ == '__main__':\n",
    "    lst = os.listdir('photos/')\n",
    "    #lst.remove('')\n",
    "    start_time = time.time()\n",
    "    for j in tqdm(range(len(lst))):\n",
    "        decompretion(lst[j])\n",
    "    print(\"--- %s seconds ---\" % (time.time() - start_time))\n",
    "    dur[\"Series-decompretion\"] = time.time() - start_time"
   ]
  },
  {
   "cell_type": "markdown",
   "metadata": {},
   "source": [
    "Threading"
   ]
  },
  {
   "cell_type": "code",
   "execution_count": 44,
   "metadata": {},
   "outputs": [
    {
     "ename": "Exception",
     "evalue": "Pymp relies on full 'fork' support by the operating system. You seem to be using Windows, which unfortanetly does not do this.",
     "output_type": "error",
     "traceback": [
      "\u001b[1;31m---------------------------------------------------------------------------\u001b[0m",
      "\u001b[1;31mException\u001b[0m                                 Traceback (most recent call last)",
      "\u001b[1;32m<ipython-input-44-af9f81b1543f>\u001b[0m in \u001b[0;36m<module>\u001b[1;34m\u001b[0m\n\u001b[0;32m      1\u001b[0m \u001b[0mstart_time\u001b[0m \u001b[1;33m=\u001b[0m \u001b[0mtime\u001b[0m\u001b[1;33m.\u001b[0m\u001b[0mtime\u001b[0m\u001b[1;33m(\u001b[0m\u001b[1;33m)\u001b[0m\u001b[1;33m\u001b[0m\u001b[1;33m\u001b[0m\u001b[0m\n\u001b[0;32m      2\u001b[0m \u001b[1;31m#lst = lst[:10]\u001b[0m\u001b[1;33m\u001b[0m\u001b[1;33m\u001b[0m\u001b[1;33m\u001b[0m\u001b[0m\n\u001b[1;32m----> 3\u001b[1;33m \u001b[1;32mwith\u001b[0m \u001b[0mpymp\u001b[0m\u001b[1;33m.\u001b[0m\u001b[0mParallel\u001b[0m\u001b[1;33m(\u001b[0m\u001b[1;36m2\u001b[0m\u001b[1;33m)\u001b[0m \u001b[1;32mas\u001b[0m \u001b[0mp\u001b[0m\u001b[1;33m:\u001b[0m\u001b[1;33m\u001b[0m\u001b[1;33m\u001b[0m\u001b[0m\n\u001b[0m\u001b[0;32m      4\u001b[0m     \u001b[1;32mfor\u001b[0m \u001b[0mi\u001b[0m \u001b[1;32min\u001b[0m \u001b[0mp\u001b[0m\u001b[1;33m.\u001b[0m\u001b[0mrange\u001b[0m\u001b[1;33m(\u001b[0m\u001b[1;36m0\u001b[0m\u001b[1;33m,\u001b[0m \u001b[0mlen\u001b[0m\u001b[1;33m(\u001b[0m\u001b[0mlst\u001b[0m\u001b[1;33m)\u001b[0m\u001b[1;33m//\u001b[0m\u001b[1;36m2\u001b[0m\u001b[1;33m)\u001b[0m\u001b[1;33m:\u001b[0m\u001b[1;33m\u001b[0m\u001b[1;33m\u001b[0m\u001b[0m\n\u001b[0;32m      5\u001b[0m         \u001b[0mcompretion\u001b[0m\u001b[1;33m(\u001b[0m\u001b[0mlst\u001b[0m\u001b[1;33m[\u001b[0m\u001b[0mi\u001b[0m\u001b[1;33m]\u001b[0m\u001b[1;33m)\u001b[0m\u001b[1;33m\u001b[0m\u001b[1;33m\u001b[0m\u001b[0m\n",
      "\u001b[1;32m~\\anaconda3\\lib\\site-packages\\pymp\\__init__.py\u001b[0m in \u001b[0;36m__init__\u001b[1;34m(self, num_threads, if_)\u001b[0m\n\u001b[0;32m     39\u001b[0m         ):\n\u001b[0;32m     40\u001b[0m             raise Exception(\n\u001b[1;32m---> 41\u001b[1;33m                 \u001b[1;34m\"Pymp relies on full 'fork' support by the operating system. \"\u001b[0m\u001b[1;33m\u001b[0m\u001b[1;33m\u001b[0m\u001b[0m\n\u001b[0m\u001b[0;32m     42\u001b[0m                 \u001b[1;34m\"You seem to be using Windows, which unfortanetly does not \"\u001b[0m\u001b[1;33m\u001b[0m\u001b[1;33m\u001b[0m\u001b[0m\n\u001b[0;32m     43\u001b[0m                 \u001b[1;34m\"do this.\"\u001b[0m\u001b[1;33m\u001b[0m\u001b[1;33m\u001b[0m\u001b[0m\n",
      "\u001b[1;31mException\u001b[0m: Pymp relies on full 'fork' support by the operating system. You seem to be using Windows, which unfortanetly does not do this."
     ]
    }
   ],
   "source": [
    "start_time = time.time()\n",
    "#lst = lst[:10]\n",
    "with pymp.Parallel(2) as p:\n",
    "    for i in p.range(0, len(lst)//2):\n",
    "        compretion(lst[i])\n",
    "\n",
    "    for i in p.range(len(lst)//2, len(lst)):\n",
    "        compretion(lst[i])\n",
    "print(\"--- %s seconds ---\" % (time.time() - start_time))\n",
    "dur[\"Threading-compretion\"] = time.time() - start_time"
   ]
  },
  {
   "cell_type": "code",
   "execution_count": 45,
   "metadata": {},
   "outputs": [
    {
     "ename": "Exception",
     "evalue": "Pymp relies on full 'fork' support by the operating system. You seem to be using Windows, which unfortanetly does not do this.",
     "output_type": "error",
     "traceback": [
      "\u001b[1;31m---------------------------------------------------------------------------\u001b[0m",
      "\u001b[1;31mException\u001b[0m                                 Traceback (most recent call last)",
      "\u001b[1;32m<ipython-input-45-748cd9dd3902>\u001b[0m in \u001b[0;36m<module>\u001b[1;34m\u001b[0m\n\u001b[0;32m      1\u001b[0m \u001b[0mstart_time\u001b[0m \u001b[1;33m=\u001b[0m \u001b[0mtime\u001b[0m\u001b[1;33m.\u001b[0m\u001b[0mtime\u001b[0m\u001b[1;33m(\u001b[0m\u001b[1;33m)\u001b[0m\u001b[1;33m\u001b[0m\u001b[1;33m\u001b[0m\u001b[0m\n\u001b[0;32m      2\u001b[0m \u001b[1;31m#lst = lst[:10]\u001b[0m\u001b[1;33m\u001b[0m\u001b[1;33m\u001b[0m\u001b[1;33m\u001b[0m\u001b[0m\n\u001b[1;32m----> 3\u001b[1;33m \u001b[1;32mwith\u001b[0m \u001b[0mpymp\u001b[0m\u001b[1;33m.\u001b[0m\u001b[0mParallel\u001b[0m\u001b[1;33m(\u001b[0m\u001b[1;36m2\u001b[0m\u001b[1;33m)\u001b[0m \u001b[1;32mas\u001b[0m \u001b[0mp\u001b[0m\u001b[1;33m:\u001b[0m\u001b[1;33m\u001b[0m\u001b[1;33m\u001b[0m\u001b[0m\n\u001b[0m\u001b[0;32m      4\u001b[0m     \u001b[1;32mfor\u001b[0m \u001b[0mi\u001b[0m \u001b[1;32min\u001b[0m \u001b[0mp\u001b[0m\u001b[1;33m.\u001b[0m\u001b[0mrange\u001b[0m\u001b[1;33m(\u001b[0m\u001b[1;36m0\u001b[0m\u001b[1;33m,\u001b[0m \u001b[0mlen\u001b[0m\u001b[1;33m(\u001b[0m\u001b[0mlst\u001b[0m\u001b[1;33m)\u001b[0m\u001b[1;33m//\u001b[0m\u001b[1;36m2\u001b[0m\u001b[1;33m)\u001b[0m\u001b[1;33m:\u001b[0m\u001b[1;33m\u001b[0m\u001b[1;33m\u001b[0m\u001b[0m\n\u001b[0;32m      5\u001b[0m         \u001b[0mdecompretion\u001b[0m\u001b[1;33m(\u001b[0m\u001b[0mlst\u001b[0m\u001b[1;33m[\u001b[0m\u001b[0mi\u001b[0m\u001b[1;33m]\u001b[0m\u001b[1;33m)\u001b[0m\u001b[1;33m\u001b[0m\u001b[1;33m\u001b[0m\u001b[0m\n",
      "\u001b[1;32m~\\anaconda3\\lib\\site-packages\\pymp\\__init__.py\u001b[0m in \u001b[0;36m__init__\u001b[1;34m(self, num_threads, if_)\u001b[0m\n\u001b[0;32m     39\u001b[0m         ):\n\u001b[0;32m     40\u001b[0m             raise Exception(\n\u001b[1;32m---> 41\u001b[1;33m                 \u001b[1;34m\"Pymp relies on full 'fork' support by the operating system. \"\u001b[0m\u001b[1;33m\u001b[0m\u001b[1;33m\u001b[0m\u001b[0m\n\u001b[0m\u001b[0;32m     42\u001b[0m                 \u001b[1;34m\"You seem to be using Windows, which unfortanetly does not \"\u001b[0m\u001b[1;33m\u001b[0m\u001b[1;33m\u001b[0m\u001b[0m\n\u001b[0;32m     43\u001b[0m                 \u001b[1;34m\"do this.\"\u001b[0m\u001b[1;33m\u001b[0m\u001b[1;33m\u001b[0m\u001b[0m\n",
      "\u001b[1;31mException\u001b[0m: Pymp relies on full 'fork' support by the operating system. You seem to be using Windows, which unfortanetly does not do this."
     ]
    }
   ],
   "source": [
    "start_time = time.time()\n",
    "#lst = lst[:10]\n",
    "with pymp.Parallel(2) as p:\n",
    "    for i in p.range(0, len(lst)//2):\n",
    "        decompretion(lst[i])\n",
    "\n",
    "    for i in p.range(len(lst)//2, len(lst)):\n",
    "        decompretion(lst[i])\n",
    "print(\"--- %s seconds ---\" % (time.time() - start_time))\n",
    "dur[\"Threading-decompretion\"] = time.time() - start_time"
   ]
  },
  {
   "cell_type": "markdown",
   "metadata": {},
   "source": [
    "Multi Processing (with 2 processors)"
   ]
  },
  {
   "cell_type": "code",
   "execution_count": 46,
   "metadata": {},
   "outputs": [],
   "source": [
    "processors = 2"
   ]
  },
  {
   "cell_type": "code",
   "execution_count": 47,
   "metadata": {},
   "outputs": [],
   "source": [
    "from test import multi_compretion"
   ]
  },
  {
   "cell_type": "code",
   "execution_count": 48,
   "metadata": {},
   "outputs": [
    {
     "name": "stderr",
     "output_type": "stream",
     "text": [
      "100%|██████████████████████████████████████████████████████████████████████████████████| 60/60 [00:37<00:00,  1.59it/s]\n"
     ]
    },
    {
     "name": "stdout",
     "output_type": "stream",
     "text": [
      "--- 37.8402042388916 seconds ---\n"
     ]
    }
   ],
   "source": [
    "import os\n",
    "lst = os.listdir('photos/')\n",
    "#lst.remove('')\n",
    "#print(lst)\n",
    "dur[\"2 Processors compretion\"] = multi_compretion(lst,processors)"
   ]
  },
  {
   "cell_type": "code",
   "execution_count": 49,
   "metadata": {},
   "outputs": [],
   "source": [
    "from test2 import multi_decompretion"
   ]
  },
  {
   "cell_type": "code",
   "execution_count": 50,
   "metadata": {},
   "outputs": [
    {
     "name": "stderr",
     "output_type": "stream",
     "text": [
      "100%|██████████████████████████████████████████████████████████████████████████████████| 61/61 [00:33<00:00,  1.83it/s]"
     ]
    },
    {
     "name": "stdout",
     "output_type": "stream",
     "text": [
      "--- 33.404603481292725 seconds ---\n"
     ]
    },
    {
     "name": "stderr",
     "output_type": "stream",
     "text": [
      "\n"
     ]
    }
   ],
   "source": [
    "lst = os.listdir('photos/')\n",
    "#lst.remove('')\n",
    "#print(lst)\n",
    "dur[\"2 Processors decompretion\"] = multi_decompretion(lst,processors)"
   ]
  },
  {
   "cell_type": "markdown",
   "metadata": {},
   "source": [
    "Multi Processing (with 4 processors)"
   ]
  },
  {
   "cell_type": "code",
   "execution_count": 51,
   "metadata": {},
   "outputs": [],
   "source": [
    "processors = 4"
   ]
  },
  {
   "cell_type": "code",
   "execution_count": 52,
   "metadata": {},
   "outputs": [
    {
     "name": "stderr",
     "output_type": "stream",
     "text": [
      "100%|██████████████████████████████████████████████████████████████████████████████████| 60/60 [00:25<00:00,  2.36it/s]\n"
     ]
    },
    {
     "name": "stdout",
     "output_type": "stream",
     "text": [
      "--- 25.603647232055664 seconds ---\n"
     ]
    }
   ],
   "source": [
    "lst = os.listdir('photos/')\n",
    "#lst.remove('')\n",
    "#lst.remove('')\n",
    "#print(lst)\n",
    "dur[\"4 Processors compretion\"] = multi_compretion(lst,processors)"
   ]
  },
  {
   "cell_type": "code",
   "execution_count": 53,
   "metadata": {},
   "outputs": [
    {
     "name": "stderr",
     "output_type": "stream",
     "text": [
      "100%|██████████████████████████████████████████████████████████████████████████████████| 61/61 [00:22<00:00,  2.71it/s]\n"
     ]
    },
    {
     "name": "stdout",
     "output_type": "stream",
     "text": [
      "--- 22.713435888290405 seconds ---\n"
     ]
    }
   ],
   "source": [
    "lst = os.listdir('photos/')\n",
    "#lst.remove('')\n",
    "#print(lst)\n",
    "dur[\"4 Processors decompretion\"] = multi_decompretion(lst,processors)"
   ]
  },
  {
   "cell_type": "markdown",
   "metadata": {},
   "source": [
    "Multi Processing (with 8 processors)"
   ]
  },
  {
   "cell_type": "code",
   "execution_count": 54,
   "metadata": {},
   "outputs": [],
   "source": [
    "processors = 8"
   ]
  },
  {
   "cell_type": "code",
   "execution_count": 55,
   "metadata": {},
   "outputs": [
    {
     "name": "stderr",
     "output_type": "stream",
     "text": [
      "100%|██████████████████████████████████████████████████████████████████████████████████| 60/60 [00:22<00:00,  2.69it/s]\n"
     ]
    },
    {
     "name": "stdout",
     "output_type": "stream",
     "text": [
      "--- 22.72270679473877 seconds ---\n"
     ]
    }
   ],
   "source": [
    "lst = os.listdir('photos/')\n",
    "#lst.remove('')\n",
    "#print(lst)\n",
    "dur[\"8 Processors compretion\"] = multi_compretion(lst,processors)"
   ]
  },
  {
   "cell_type": "code",
   "execution_count": 56,
   "metadata": {},
   "outputs": [
    {
     "name": "stderr",
     "output_type": "stream",
     "text": [
      "100%|██████████████████████████████████████████████████████████████████████████████████| 61/61 [00:19<00:00,  3.14it/s]\n"
     ]
    },
    {
     "name": "stdout",
     "output_type": "stream",
     "text": [
      "--- 19.663806438446045 seconds ---\n"
     ]
    }
   ],
   "source": [
    "lst = os.listdir('photos/')\n",
    "#lst.remove('')\n",
    "#print(lst)\n",
    "dur[\"8 Processors decompretion\"] = multi_decompretion(lst,processors)"
   ]
  },
  {
   "cell_type": "markdown",
   "metadata": {},
   "source": [
    "Joblib"
   ]
  },
  {
   "cell_type": "code",
   "execution_count": 57,
   "metadata": {},
   "outputs": [
    {
     "name": "stdout",
     "output_type": "stream",
     "text": [
      "--- 47.81302189826965 seconds ---\n"
     ]
    }
   ],
   "source": [
    "lst = os.listdir('photos/')\n",
    "#lst.remove('')\n",
    "\n",
    "start_time = time.time()\n",
    "result = Parallel(n_jobs=2)(delayed(compretion)(lst[i]) for i in range(len(lst)))\n",
    "print(\"--- %s seconds ---\" % (time.time() - start_time))\n",
    "dur[\"Joblib-compretion\"] = time.time() - start_time"
   ]
  },
  {
   "cell_type": "code",
   "execution_count": 58,
   "metadata": {},
   "outputs": [
    {
     "name": "stdout",
     "output_type": "stream",
     "text": [
      "--- 34.929964780807495 seconds ---\n"
     ]
    }
   ],
   "source": [
    "lst = os.listdir('photos/')\n",
    "#lst.remove('')\n",
    "\n",
    "start_time = time.time()\n",
    "result = Parallel(n_jobs=2)(delayed(decompretion)(lst[i]) for i in range(len(lst)))\n",
    "print(\"--- %s seconds ---\" % (time.time() - start_time))\n",
    "dur[\"Joblib-decompretion\"] = time.time() - start_time"
   ]
  },
  {
   "cell_type": "markdown",
   "metadata": {},
   "source": [
    "Ray"
   ]
  },
  {
   "cell_type": "code",
   "execution_count": 59,
   "metadata": {},
   "outputs": [],
   "source": [
    "@ray.remote\n",
    "def ray_predict(image):\n",
    "    return compretion(image)"
   ]
  },
  {
   "cell_type": "code",
   "execution_count": 60,
   "metadata": {},
   "outputs": [
    {
     "name": "stderr",
     "output_type": "stream",
     "text": [
      "2021-05-20 11:34:12,441\tINFO services.py:1269 -- View the Ray dashboard at \u001b[1m\u001b[32mhttp://127.0.0.1:8265\u001b[39m\u001b[22m\n"
     ]
    },
    {
     "name": "stdout",
     "output_type": "stream",
     "text": [
      "--- 47.59947323799133 seconds ---\n"
     ]
    }
   ],
   "source": [
    "lst = os.listdir('photos/')\n",
    "#lst.remove('')\n",
    "ray.init(num_cpus=2)\n",
    "\n",
    "start_time = time.time()\n",
    "result = ray.get([ray_predict.remote(lst[i]) for i in range(len(lst))])\n",
    "ray.shutdown()\n",
    "\n",
    "print(\"--- %s seconds ---\" % (time.time() - start_time))\n",
    "dur[\"ray-compretion\"] = time.time() - start_time"
   ]
  },
  {
   "cell_type": "code",
   "execution_count": 61,
   "metadata": {},
   "outputs": [],
   "source": [
    "@ray.remote\n",
    "def ray_decompretion(image):\n",
    "    return decompretion(image)"
   ]
  },
  {
   "cell_type": "code",
   "execution_count": 62,
   "metadata": {},
   "outputs": [
    {
     "name": "stderr",
     "output_type": "stream",
     "text": [
      "2021-05-20 11:35:12,555\tINFO services.py:1269 -- View the Ray dashboard at \u001b[1m\u001b[32mhttp://127.0.0.1:8265\u001b[39m\u001b[22m\n"
     ]
    },
    {
     "name": "stdout",
     "output_type": "stream",
     "text": [
      "--- 36.26817297935486 seconds ---\n"
     ]
    }
   ],
   "source": [
    "lst = os.listdir('photos/')\n",
    "#lst.remove('')\n",
    "ray.init(num_cpus=2)\n",
    "\n",
    "start_time = time.time()\n",
    "result = ray.get([ray_decompretion.remote(lst[i]) for i in range(len(lst))])\n",
    "ray.shutdown()\n",
    "\n",
    "print(\"--- %s seconds ---\" % (time.time() - start_time))\n",
    "dur[\"ray-decompretion\"] = time.time() - start_time"
   ]
  },
  {
   "cell_type": "code",
   "execution_count": 64,
   "metadata": {},
   "outputs": [
    {
     "name": "stdout",
     "output_type": "stream",
     "text": [
      "[80.51826095581055, 0, 47.814014196395874, 47.59947323799133, 37.8402042388916, 25.603647232055664, 22.72370433807373]\n",
      "[62.3877854347229, 0, 34.930962324142456, 36.26817297935486, 33.404603481292725, 22.714399337768555, 19.663806438446045]\n",
      "['Series', 'Threading(2)', 'joblib(2)', 'ray(2)', 'Multi-Proessing(2)', 'Multi-Proessing(4)', 'Multi-Proessing(8)']\n"
     ]
    },
    {
     "data": {
      "image/png": "[encoded data removed]",
      "text/plain": [
       "<Figure size 864x576 with 1 Axes>"
      ]
     },
     "metadata": {
      "needs_background": "light"
     },
     "output_type": "display_data"
    }
   ],
   "source": [
    "barWidth = 0.25\n",
    "fig = plt.subplots(figsize =(12, 8))\n",
    " \n",
    "# set height of bar\n",
    "compress = [dur[\"Series-compretion\"], dur[\"Threading-compretion\"], dur[\"Joblib-compretion\"], dur[\"ray-compretion\"], dur[\"2 Processors compretion\"],dur[\"4 Processors compretion\"],dur[\"8 Processors compretion\"]]\n",
    "decompress = [dur[\"Series-decompretion\"], dur[\"Threading-decompretion\"], dur[\"Joblib-decompretion\"], dur[\"ray-decompretion\"], dur[\"2 Processors decompretion\"],dur[\"4 Processors decompretion\"],dur[\"8 Processors decompretion\"]]\n",
    "types = ['Series', 'Threading(2)','joblib(2)', 'ray(2)','Multi-Proessing(2)','Multi-Proessing(4)','Multi-Proessing(8)']\n",
    "\n",
    "print(compress)\n",
    "print(decompress)\n",
    "print(types)\n",
    "\n",
    "# Set position of bar on X axis\n",
    "br1 = np.arange(len(compress))\n",
    "br2 = [x + barWidth for x in br1]\n",
    " \n",
    "# Make the plot\n",
    "plt.bar(br2, decompress, color ='y', width = barWidth,\n",
    "        edgecolor ='grey', label ='de-compress')\n",
    "plt.bar(br1, compress, color ='m', width = barWidth,\n",
    "        edgecolor ='grey', label ='compress')\n",
    " \n",
    "# Adding Xticks\n",
    "plt.xlabel('Durations', fontweight ='bold', fontsize = 15)\n",
    "plt.ylabel('Time', fontweight ='bold', fontsize = 15)\n",
    "plt.xticks([r + barWidth for r in range(len(compress))],types)\n",
    " \n",
    "plt.legend()\n",
    "plt.show()"
   ]
  },
  {
   "cell_type": "code",
   "execution_count": 63,
   "metadata": {},
   "outputs": [],
   "source": [
    "dur[\"Threading-compretion\"] = 0\n",
    "dur[\"Threading-decompretion\"] = 0"
   ]
  },
  {
   "cell_type": "code",
   "execution_count": null,
   "metadata": {},
   "outputs": [],
   "source": []
  },
  {
   "cell_type": "code",
   "execution_count": null,
   "metadata": {},
   "outputs": [],
   "source": []
  },
  {
   "cell_type": "code",
   "execution_count": null,
   "metadata": {},
   "outputs": [],
   "source": []
  },
  {
   "cell_type": "code",
   "execution_count": null,
   "metadata": {},
   "outputs": [],
   "source": []
  },
  {
   "cell_type": "code",
   "execution_count": null,
   "metadata": {},
   "outputs": [],
   "source": [
    "import requests\n",
    "\n",
    "os.mkdir('photos')\n",
    "\n",
    "lst_urls = [\"https://i.imgur.com/ExdKOOz.png\",\"https://cdn.pixabay.com/photo/2015/04/23/22/00/tree-736885__340.jpg\",\"https://images.unsplash.com/photo-1541963463532-d68292c34b19?ixlib=rb-1.2.1&ixid=MnwxMjA3fDB8MHxleHBsb3JlLWZlZWR8MXx8fGVufDB8fHx8&w=1000&q=80\",\"data:image/jpeg;base64,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\"]\n",
    "for url in range(len(lst_urls)):\n",
    "    response = requests.get(lst_urls[url])\n",
    "    file = open(\"photos/sample\"+str(url+1)+\".png\", \"wb\")\n",
    "    file.write(response.content)\n",
    "    file.close()\n",
    "\n",
    "os.mkdir('bin')\n",
    "os.mkdir('dict')\n",
    "os.mkdir('decomp')"
   ]
  },
  {
   "cell_type": "code",
   "execution_count": 35,
   "metadata": {},
   "outputs": [],
   "source": []
  },
  {
   "cell_type": "code",
   "execution_count": null,
   "metadata": {},
   "outputs": [],
   "source": []
  },
  {
   "cell_type": "code",
   "execution_count": null,
   "metadata": {},
   "outputs": [],
   "source": []
  }
 ],
 "metadata": {
  "kernelspec": {
   "display_name": "Python 3",
   "language": "python",
   "name": "python3"
  },
  "language_info": {
   "codemirror_mode": {
    "name": "ipython",
    "version": 3
   },
   "file_extension": ".py",
   "mimetype": "text/x-python",
   "name": "python",
   "nbconvert_exporter": "python",
   "pygments_lexer": "ipython3",
   "version": "3.7.6"
  }
 },
 "nbformat": 4,
 "nbformat_minor": 4
}
